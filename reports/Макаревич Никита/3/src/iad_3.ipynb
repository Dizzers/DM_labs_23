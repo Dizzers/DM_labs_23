{
  "nbformat": 4,
  "nbformat_minor": 0,
  "metadata": {
    "colab": {
      "provenance": []
    },
    "kernelspec": {
      "name": "python3",
      "display_name": "Python 3"
    },
    "language_info": {
      "name": "python"
    }
  },
  "cells": [
    {
      "cell_type": "code",
      "execution_count": 1,
      "metadata": {
        "id": "_UVU5zN1p1MZ"
      },
      "outputs": [],
      "source": [
        "!pip install ucimlrepo --quiet\n",
        "!pip install torch torchvision torchaudio --index-url https://download.pytorch.org/whl/cpu -q\n",
        "!pip install scikit-learn pandas numpy matplotlib seaborn --quiet"
      ]
    },
    {
      "cell_type": "code",
      "source": [
        "import random\n",
        "import numpy as np\n",
        "import pandas as pd\n",
        "import torch\n",
        "import torch.nn as nn\n",
        "import torch.optim as optim\n",
        "from torch.utils.data import TensorDataset, DataLoader\n",
        "from sklearn.preprocessing import StandardScaler, LabelEncoder\n",
        "from sklearn.model_selection import train_test_split\n",
        "from sklearn.metrics import classification_report, confusion_matrix, f1_score, accuracy_score\n",
        "import matplotlib.pyplot as plt\n",
        "import seaborn as sns\n",
        "\n",
        "RND = 42\n",
        "random.seed(RND)\n",
        "np.random.seed(RND)\n",
        "torch.manual_seed(RND)\n",
        "device = torch.device(\"cpu\")"
      ],
      "metadata": {
        "id": "lJHSy_jiqJHN"
      },
      "execution_count": 3,
      "outputs": []
    },
    {
      "cell_type": "code",
      "source": [
        "from ucimlrepo import fetch_ucirepo\n",
        "\n",
        "ds = fetch_ucirepo(id=863)\n",
        "X = ds.data.features\n",
        "y = ds.data.targets\n",
        "\n",
        "if not isinstance(X, pd.DataFrame):\n",
        "    X = pd.DataFrame(X)\n",
        "if isinstance(y, (pd.DataFrame, pd.Series)):\n",
        "    y = np.array(y).reshape(-1,)\n",
        "else:\n",
        "    y = np.array(y)"
      ],
      "metadata": {
        "id": "BExtSTn7qYI4"
      },
      "execution_count": 5,
      "outputs": []
    },
    {
      "cell_type": "code",
      "source": [
        "le = LabelEncoder()\n",
        "y_enc = le.fit_transform(y)\n",
        "class_names = le.classes_\n",
        "n_classes = len(class_names)\n",
        "\n",
        "scaler = StandardScaler()\n",
        "X_scaled = scaler.fit_transform(X.values.astype(float))\n",
        "\n",
        "X_train, X_temp, y_train, y_temp = train_test_split(\n",
        "    X_scaled, y_enc, test_size=0.4, random_state=RND, stratify=y_enc\n",
        ")\n",
        "X_val, X_test, y_val, y_test = train_test_split(\n",
        "    X_temp, y_temp, test_size=0.5, random_state=RND, stratify=y_temp\n",
        ")"
      ],
      "metadata": {
        "id": "v953GcMFqlPO"
      },
      "execution_count": 11,
      "outputs": []
    },
    {
      "cell_type": "code",
      "source": [
        "def to_loader(X, y, batch_size=32, shuffle=True):\n",
        "    X_t = torch.tensor(X, dtype=torch.float32)\n",
        "    y_t = torch.tensor(y, dtype=torch.long)\n",
        "    ds = TensorDataset(X_t, y_t)\n",
        "    return DataLoader(ds, batch_size=batch_size, shuffle=shuffle)\n",
        "\n",
        "train_loader = to_loader(X_train, y_train, batch_size=32, shuffle=True)\n",
        "val_loader = to_loader(X_val, y_val, batch_size=64, shuffle=False)\n",
        "test_loader = to_loader(X_test, y_test, batch_size=64, shuffle=False)\n",
        "\n",
        "def evaluate_model(model, loader):\n",
        "    model.eval()\n",
        "    ys = []\n",
        "    ys_pred = []\n",
        "    with torch.no_grad():\n",
        "        for xb, yb in loader:\n",
        "            xb = xb.to(device)\n",
        "            out = model(xb)\n",
        "            preds = out.argmax(dim=1).cpu().numpy()\n",
        "            ys_pred.extend(preds.tolist())\n",
        "            ys.extend(yb.numpy().tolist())\n",
        "    return np.array(ys), np.array(ys_pred)\n",
        "\n",
        "def print_metrics(y_true, y_pred, labels=None):\n",
        "    print(\"Accuracy:\", accuracy_score(y_true, y_pred))\n",
        "    print(\"Macro F1: \", f1_score(y_true, y_pred, average='macro'))\n",
        "    print(\"\\nClassification report:\\n\", classification_report(y_true, y_pred, target_names=labels))\n",
        "    cm = confusion_matrix(y_true, y_pred)\n",
        "    plt.figure(figsize=(6,5))\n",
        "    sns.heatmap(cm, annot=True, fmt='d', xticklabels=labels, yticklabels=labels, cmap='Blues')\n",
        "    plt.xlabel(\"Predicted\")\n",
        "    plt.ylabel(\"True\")\n",
        "    plt.show()\n"
      ],
      "metadata": {
        "id": "UcCTIdharGCM"
      },
      "execution_count": 10,
      "outputs": []
    },
    {
      "cell_type": "code",
      "source": [
        "input_dim = X_train.shape[1]\n",
        "hidden_sizes = [64, 32, 16]\n",
        "dropout = 0.2\n",
        "\n",
        "class FCNet(nn.Module):\n",
        "    def __init__(self, input_dim, hidden_sizes, n_classes, dropout=0.2):\n",
        "        super().__init__()\n",
        "        layers = []\n",
        "        prev = input_dim\n",
        "        for h in hidden_sizes:\n",
        "            layers.append(nn.Linear(prev, h))\n",
        "            layers.append(nn.ReLU())\n",
        "            layers.append(nn.Dropout(dropout))\n",
        "            prev = h\n",
        "        layers.append(nn.Linear(prev, n_classes))\n",
        "        self.net = nn.Sequential(*layers)\n",
        "    def forward(self, x):\n",
        "        return self.net(x)\n",
        "\n",
        "model_plain = FCNet(input_dim, hidden_sizes, n_classes, dropout=dropout).to(device)\n",
        "print(model_plain)\n"
      ],
      "metadata": {
        "colab": {
          "base_uri": "https://localhost:8080/"
        },
        "id": "--iZNp2trPS1",
        "outputId": "5ed72f64-dd08-4c5c-cbd7-87da757440c5"
      },
      "execution_count": 12,
      "outputs": [
        {
          "output_type": "stream",
          "name": "stdout",
          "text": [
            "FCNet(\n",
            "  (net): Sequential(\n",
            "    (0): Linear(in_features=6, out_features=64, bias=True)\n",
            "    (1): ReLU()\n",
            "    (2): Dropout(p=0.2, inplace=False)\n",
            "    (3): Linear(in_features=64, out_features=32, bias=True)\n",
            "    (4): ReLU()\n",
            "    (5): Dropout(p=0.2, inplace=False)\n",
            "    (6): Linear(in_features=32, out_features=16, bias=True)\n",
            "    (7): ReLU()\n",
            "    (8): Dropout(p=0.2, inplace=False)\n",
            "    (9): Linear(in_features=16, out_features=3, bias=True)\n",
            "  )\n",
            ")\n"
          ]
        }
      ]
    },
    {
      "cell_type": "code",
      "source": [
        "def train_classifier(model, train_loader, val_loader, epochs=100, lr=1e-3, weight_decay=1e-5, patience=10):\n",
        "    criterion = nn.CrossEntropyLoss()\n",
        "    optimizer = optim.Adam(model.parameters(), lr=lr, weight_decay=weight_decay)\n",
        "    best_val_loss = float('inf')\n",
        "    best_state = None\n",
        "    patience_cnt = 0\n",
        "    history = {'train_loss':[], 'val_loss':[]}\n",
        "    for ep in range(1, epochs+1):\n",
        "        model.train()\n",
        "        total_loss = 0.0\n",
        "        for xb, yb in train_loader:\n",
        "            xb, yb = xb.to(device), yb.to(device)\n",
        "            optimizer.zero_grad()\n",
        "            out = model(xb)\n",
        "            loss = criterion(out, yb)\n",
        "            loss.backward()\n",
        "            optimizer.step()\n",
        "            total_loss += loss.item() * xb.size(0)\n",
        "        avg_train_loss = total_loss / len(train_loader.dataset)\n",
        "        model.eval()\n",
        "        total_val_loss = 0.0\n",
        "        with torch.no_grad():\n",
        "            for xb, yb in val_loader:\n",
        "                xb, yb = xb.to(device), yb.to(device)\n",
        "                out = model(xb)\n",
        "                loss = criterion(out, yb)\n",
        "                total_val_loss += loss.item() * xb.size(0)\n",
        "        avg_val_loss = total_val_loss / len(val_loader.dataset)\n",
        "        history['train_loss'].append(avg_train_loss)\n",
        "        history['val_loss'].append(avg_val_loss)\n",
        "\n",
        "        if avg_val_loss < best_val_loss - 1e-5:\n",
        "            best_val_loss = avg_val_loss\n",
        "            best_state = {k:v.cpu() for k,v in model.state_dict().items()}\n",
        "            patience_cnt = 0\n",
        "        else:\n",
        "            patience_cnt += 1\n",
        "        if patience_cnt >= patience:\n",
        "            print(f\"Early stopping at epoch {ep}\")\n",
        "            break\n",
        "        if ep % 10 == 0 or ep==1:\n",
        "            print(f\"Epoch {ep} train_loss={avg_train_loss:.4f} val_loss={avg_val_loss:.4f}\")\n",
        "\n",
        "    if best_state is not None:\n",
        "        model.load_state_dict(best_state)\n",
        "    return model, history\n",
        "\n",
        "model_plain_trained, hist_plain = train_classifier(model_plain, train_loader, val_loader, epochs=200, lr=1e-3, patience=15)\n"
      ],
      "metadata": {
        "colab": {
          "base_uri": "https://localhost:8080/"
        },
        "id": "HNk3A6xGrhbt",
        "outputId": "7b4c15f3-56f1-41a7-c126-863026e38ee9"
      },
      "execution_count": 18,
      "outputs": [
        {
          "output_type": "stream",
          "name": "stdout",
          "text": [
            "Epoch 1 train_loss=0.4625 val_loss=0.6924\n",
            "Epoch 10 train_loss=0.4496 val_loss=0.6602\n",
            "Epoch 20 train_loss=0.4245 val_loss=0.6891\n",
            "Early stopping at epoch 25\n"
          ]
        }
      ]
    },
    {
      "cell_type": "code",
      "source": [
        "y_true, y_pred = evaluate_model(model_plain_trained, test_loader)\n",
        "print_metrics(y_true, y_pred, labels=class_names)"
      ],
      "metadata": {
        "colab": {
          "base_uri": "https://localhost:8080/",
          "height": 708
        },
        "id": "K44G62KEsK6M",
        "outputId": "2a5e22ad-de16-4d14-c534-995143392f20"
      },
      "execution_count": 20,
      "outputs": [
        {
          "output_type": "stream",
          "name": "stdout",
          "text": [
            "Accuracy: 0.729064039408867\n",
            "Macro F1:  0.7270163798465684\n",
            "\n",
            "Classification report:\n",
            "               precision    recall  f1-score   support\n",
            "\n",
            "   high risk       0.96      0.87      0.91        55\n",
            "    low risk       0.63      0.89      0.74        81\n",
            "    mid risk       0.72      0.42      0.53        67\n",
            "\n",
            "    accuracy                           0.73       203\n",
            "   macro avg       0.77      0.73      0.73       203\n",
            "weighted avg       0.75      0.73      0.72       203\n",
            "\n"
          ]
        },
        {
          "output_type": "display_data",
          "data": {
            "text/plain": [
              "<Figure size 600x500 with 2 Axes>"
            ],
            "image/png": "[encoded data removed]"
          },
          "metadata": {}
        }
      ]
    },
    {
      "cell_type": "code",
      "source": [
        "ae_epochs = 80\n",
        "ae_lr = 1e-3\n",
        "ae_batch = 32\n",
        "\n",
        "class SimpleAE(nn.Module):\n",
        "    def __init__(self, input_dim, bottleneck_dim):\n",
        "        super().__init__()\n",
        "        self.enc = nn.Sequential(nn.Linear(input_dim, bottleneck_dim), nn.ReLU())\n",
        "        self.dec = nn.Sequential(nn.Linear(bottleneck_dim, input_dim))\n",
        "    def forward(self, x):\n",
        "        z = self.enc(x)\n",
        "        xr = self.dec(z)\n",
        "        return xr, z\n",
        "\n",
        "def train_autoencoder(ae, data_X, epochs=50, batch_size=32, lr=1e-3, verbose=False):\n",
        "    ae = ae.to(device)\n",
        "    opt = optim.Adam(ae.parameters(), lr=lr)\n",
        "    criterion = nn.MSELoss()\n",
        "    loader = to_loader(data_X, np.zeros(len(data_X)), batch_size=batch_size, shuffle=True)\n",
        "    for ep in range(1, epochs+1):\n",
        "        ae.train()\n",
        "        total = 0.0\n",
        "        for xb, _ in loader:\n",
        "            xb = xb.to(device)\n",
        "            xr, _ = ae(xb)\n",
        "            loss = criterion(xr, xb)\n",
        "            opt.zero_grad()\n",
        "            loss.backward()\n",
        "            opt.step()\n",
        "            total += loss.item() * xb.size(0)\n",
        "        if verbose and (ep==1 or ep%20==0 or ep==epochs):\n",
        "            print(f\"AE epoch {ep} loss {total/len(data_X):.6f}\")\n",
        "    return ae\n",
        "\n",
        "ae_models = []\n",
        "activations_train = X_train.copy()\n",
        "activations_val = X_val.copy()\n",
        "activations_test = X_test.copy()\n",
        "\n",
        "trained_encoders = []\n",
        "\n",
        "for i, h in enumerate(hidden_sizes):\n",
        "    ae = SimpleAE(input_dim=activations_train.shape[1], bottleneck_dim=h)\n",
        "    ae = train_autoencoder(ae, activations_train, epochs=ae_epochs, batch_size=ae_batch, lr=ae_lr, verbose=True)\n",
        "    ae_models.append(ae)\n",
        "    ae = ae.to(device)\n",
        "    ae.eval()\n",
        "    with torch.no_grad():\n",
        "        train_z = ae.enc(torch.tensor(activations_train, dtype=torch.float32).to(device)).cpu().numpy()\n",
        "        val_z = ae.enc(torch.tensor(activations_val, dtype=torch.float32).to(device)).cpu().numpy()\n",
        "        test_z = ae.enc(torch.tensor(activations_test, dtype=torch.float32).to(device)).cpu().numpy()\n",
        "\n",
        "\n",
        "    linear_layer = ae.enc[0]\n",
        "\n",
        "    enc_linear = nn.Linear(linear_layer.in_features, linear_layer.out_features)\n",
        "    enc_linear.weight.data = linear_layer.weight.data.cpu().clone()\n",
        "    enc_linear.bias.data = linear_layer.bias.data.cpu().clone()\n",
        "    trained_encoders.append(nn.Sequential(enc_linear, nn.ReLU()))\n",
        "\n",
        "    activations_train = train_z\n",
        "    activations_val = val_z\n",
        "    activations_test = test_z\n",
        "\n",
        "print(\"\\nPretraining finished. Number of pretrained encoders:\", len(trained_encoders))\n"
      ],
      "metadata": {
        "colab": {
          "base_uri": "https://localhost:8080/"
        },
        "id": "ZKSZYtfSsd_Y",
        "outputId": "4c6895de-bcb9-4bf8-c4bf-7bb91a2f643f"
      },
      "execution_count": 23,
      "outputs": [
        {
          "output_type": "stream",
          "name": "stdout",
          "text": [
            "AE epoch 1 loss 0.884042\n",
            "AE epoch 20 loss 0.006594\n",
            "AE epoch 40 loss 0.002309\n",
            "AE epoch 60 loss 0.001326\n",
            "AE epoch 80 loss 0.000902\n",
            "AE epoch 1 loss 0.274497\n",
            "AE epoch 20 loss 0.011571\n",
            "AE epoch 40 loss 0.006240\n",
            "AE epoch 60 loss 0.004268\n",
            "AE epoch 80 loss 0.003145\n",
            "AE epoch 1 loss 0.772086\n",
            "AE epoch 20 loss 0.083723\n",
            "AE epoch 40 loss 0.045074\n",
            "AE epoch 60 loss 0.027662\n",
            "AE epoch 80 loss 0.020423\n",
            "\n",
            "Pretraining finished. Number of pretrained encoders: 3\n"
          ]
        }
      ]
    },
    {
      "cell_type": "code",
      "source": [
        "class FCNetFromEncoders(nn.Module):\n",
        "    def __init__(self, encoders, n_classes, dropout=0.2):\n",
        "        super().__init__()\n",
        "        layers = []\n",
        "        for enc in encoders:\n",
        "            layers.append(enc[0])\n",
        "            layers.append(nn.ReLU())\n",
        "            layers.append(nn.Dropout(dropout))\n",
        "\n",
        "        last_dim = encoders[-1][0].out_features\n",
        "        layers.append(nn.Linear(last_dim, n_classes))\n",
        "        self.net = nn.Sequential(*layers)\n",
        "    def forward(self, x):\n",
        "        return self.net(x)\n",
        "\n",
        "model_pretrained = FCNetFromEncoders(trained_encoders, n_classes, dropout=dropout).to(device)\n",
        "print(model_pretrained)\n"
      ],
      "metadata": {
        "colab": {
          "base_uri": "https://localhost:8080/"
        },
        "id": "Spp5WgA_s9co",
        "outputId": "049fc289-5b29-487f-ac6c-9354829d4074"
      },
      "execution_count": 24,
      "outputs": [
        {
          "output_type": "stream",
          "name": "stdout",
          "text": [
            "FCNetFromEncoders(\n",
            "  (net): Sequential(\n",
            "    (0): Linear(in_features=6, out_features=64, bias=True)\n",
            "    (1): ReLU()\n",
            "    (2): Dropout(p=0.2, inplace=False)\n",
            "    (3): Linear(in_features=64, out_features=32, bias=True)\n",
            "    (4): ReLU()\n",
            "    (5): Dropout(p=0.2, inplace=False)\n",
            "    (6): Linear(in_features=32, out_features=16, bias=True)\n",
            "    (7): ReLU()\n",
            "    (8): Dropout(p=0.2, inplace=False)\n",
            "    (9): Linear(in_features=16, out_features=3, bias=True)\n",
            "  )\n",
            ")\n"
          ]
        }
      ]
    },
    {
      "cell_type": "code",
      "source": [
        "model_pt_trained, hist_pt = train_classifier(model_pretrained, train_loader, val_loader, epochs=200, lr=1e-3, patience=15)"
      ],
      "metadata": {
        "colab": {
          "base_uri": "https://localhost:8080/"
        },
        "id": "9fo2jYJUtaX6",
        "outputId": "33dcce0c-d554-4bdc-b187-4af9f9441855"
      },
      "execution_count": 25,
      "outputs": [
        {
          "output_type": "stream",
          "name": "stdout",
          "text": [
            "Epoch 1 train_loss=1.3558 val_loss=1.1959\n",
            "Epoch 10 train_loss=0.8473 val_loss=0.7966\n",
            "Epoch 20 train_loss=0.7487 val_loss=0.6988\n",
            "Epoch 30 train_loss=0.7058 val_loss=0.6720\n",
            "Epoch 40 train_loss=0.6754 val_loss=0.6580\n",
            "Epoch 50 train_loss=0.6556 val_loss=0.6490\n",
            "Epoch 60 train_loss=0.6469 val_loss=0.6376\n",
            "Epoch 70 train_loss=0.6258 val_loss=0.6293\n",
            "Epoch 80 train_loss=0.6226 val_loss=0.6150\n",
            "Epoch 90 train_loss=0.6134 val_loss=0.6158\n",
            "Epoch 100 train_loss=0.6249 val_loss=0.6087\n",
            "Epoch 110 train_loss=0.6032 val_loss=0.6016\n",
            "Epoch 120 train_loss=0.5864 val_loss=0.6043\n",
            "Epoch 130 train_loss=0.6027 val_loss=0.5914\n",
            "Epoch 140 train_loss=0.5563 val_loss=0.5886\n",
            "Epoch 150 train_loss=0.5817 val_loss=0.5920\n",
            "Epoch 160 train_loss=0.5736 val_loss=0.5863\n",
            "Epoch 170 train_loss=0.5826 val_loss=0.5891\n",
            "Early stopping at epoch 172\n"
          ]
        }
      ]
    },
    {
      "cell_type": "code",
      "source": [
        "y_true_pt, y_pred_pt = evaluate_model(model_pt_trained, test_loader)\n",
        "print_metrics(y_true_pt, y_pred_pt, labels=class_names)"
      ],
      "metadata": {
        "colab": {
          "base_uri": "https://localhost:8080/",
          "height": 708
        },
        "id": "yToCHVM6tjT6",
        "outputId": "2a944e08-aaec-4124-f9dd-d42f28121486"
      },
      "execution_count": 26,
      "outputs": [
        {
          "output_type": "stream",
          "name": "stdout",
          "text": [
            "Accuracy: 0.6995073891625616\n",
            "Macro F1:  0.6854236536016316\n",
            "\n",
            "Classification report:\n",
            "               precision    recall  f1-score   support\n",
            "\n",
            "   high risk       0.94      0.87      0.91        55\n",
            "    low risk       0.61      0.90      0.73        81\n",
            "    mid risk       0.66      0.31      0.42        67\n",
            "\n",
            "    accuracy                           0.70       203\n",
            "   macro avg       0.74      0.70      0.69       203\n",
            "weighted avg       0.71      0.70      0.68       203\n",
            "\n"
          ]
        },
        {
          "output_type": "display_data",
          "data": {
            "text/plain": [
              "<Figure size 600x500 with 2 Axes>"
            ],
            "image/png": "[encoded data removed]"
          },
          "metadata": {}
        }
      ]
    },
    {
      "cell_type": "code",
      "source": [
        "print(\"Baseline (no pretraining):\")\n",
        "print(\"Accuracy:\", accuracy_score(y_true, y_pred))\n",
        "print(\"Macro F1:\", f1_score(y_true, y_pred, average='macro'))\n",
        "print()\n",
        "print(\"With pretraining:\")\n",
        "print(\"Accuracy:\", accuracy_score(y_true_pt, y_pred_pt))\n",
        "print(\"Macro F1:\", f1_score(y_true_pt, y_pred_pt, average='macro'))"
      ],
      "metadata": {
        "colab": {
          "base_uri": "https://localhost:8080/"
        },
        "id": "V4j92g6Rtrnl",
        "outputId": "62741b82-61a4-4816-9dc7-30d72a800562"
      },
      "execution_count": 27,
      "outputs": [
        {
          "output_type": "stream",
          "name": "stdout",
          "text": [
            "Baseline (no pretraining):\n",
            "Accuracy: 0.729064039408867\n",
            "Macro F1: 0.7270163798465684\n",
            "\n",
            "With pretraining:\n",
            "Accuracy: 0.6995073891625616\n",
            "Macro F1: 0.6854236536016316\n"
          ]
        }
      ]
    }
  ]
}